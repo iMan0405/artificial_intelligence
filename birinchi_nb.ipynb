{
  "nbformat": 4,
  "nbformat_minor": 0,
  "metadata": {
    "colab": {
      "name": "birinchi_nb.ipynb",
      "provenance": [],
      "authorship_tag": "ABX9TyNPPpqb7HBGZDpGl+T2ZL8Y",
      "include_colab_link": true
    },
    "kernelspec": {
      "name": "python3",
      "display_name": "Python 3"
    },
    "language_info": {
      "name": "python"
    }
  },
  "cells": [
    {
      "cell_type": "markdown",
      "metadata": {
        "id": "view-in-github",
        "colab_type": "text"
      },
      "source": [
        "<a href=\"https://colab.research.google.com/github/iMan0405/artificial_intelligence/blob/master/birinchi_nb.ipynb\" target=\"_parent\"><img src=\"https://colab.research.google.com/assets/colab-badge.svg\" alt=\"Open In Colab\"/></a>"
      ]
    },
    {
      "cell_type": "code",
      "execution_count": 1,
      "metadata": {
        "colab": {
          "base_uri": "https://localhost:8080/"
        },
        "id": "t7jyv5YmAH_B",
        "outputId": "b43b3d84-a5c4-47a2-cea6-00a4a6f1d4eb"
      },
      "outputs": [
        {
          "output_type": "stream",
          "name": "stdout",
          "text": [
            "Salom Dunyo\n"
          ]
        }
      ],
      "source": [
        "print('Salom Dunyo')"
      ]
    }
  ]
}